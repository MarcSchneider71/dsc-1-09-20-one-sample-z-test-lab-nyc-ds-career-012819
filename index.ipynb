{
 "cells": [
  {
   "cell_type": "markdown",
   "metadata": {},
   "source": [
    "# One-sample z-test - Lab\n",
    "\n",
    "### Introduction\n",
    "In this lab we will go through quick tests to help you better understand the ideas around hypothesis testing.\n",
    "\n",
    "## Objectives\n",
    "You would be able to\n",
    "* Understand and explain use cases for a 1-sample z-test\n",
    "* Set up null and alternative hypotheses\n",
    "* Calculate z statistic using z-tables and cdf functions\n",
    "* Calculate and interpret p-value for significance of results."
   ]
  },
  {
   "cell_type": "markdown",
   "metadata": {},
   "source": [
    "## Exercise 1\n",
    "A rental car company claims the mean time to rent a car on their website is 60 seconds with a standard deviation of 30 seconds. A random sample of 36 customers attempted to rent a car on the website. The mean time to rent was 75 seconds. Is this enough evidence to contradict the company's claim? \n",
    "\n",
    "<img src=\"http://www.guptatravelsjabalpur.com/wp-content/uploads/2016/04/car-rentalservice.jpg\" width=400>\n",
    "\n",
    "Follow the 5 steps shown in previous lesson and use alpha = 0.05. "
   ]
  },
  {
   "cell_type": "code",
   "execution_count": 6,
   "metadata": {},
   "outputs": [],
   "source": [
    "# State you null and alternative hypotheses\n",
    "H_0 = \"there is no difference between the sample mean and the mean claimed by the company\"\n",
    "\n",
    "H_A= \"the difference between the population mean and the sample mean is significant\""
   ]
  },
  {
   "cell_type": "code",
   "execution_count": 6,
   "metadata": {},
   "outputs": [
    {
     "data": {
      "text/plain": [
       "Text(0.5, 1.0, 'z-statistic = 3.0')"
      ]
     },
     "execution_count": 6,
     "metadata": {},
     "output_type": "execute_result"
    },
    {
     "data": {
      "image/png": "[encoded data removed]",
      "text/plain": [
       "<Figure size 576x396 with 1 Axes>"
      ]
     },
     "metadata": {},
     "output_type": "display_data"
    }
   ],
   "source": [
    "# Your solution here\n",
    "import scipy.stats as stats\n",
    "from math import sqrt\n",
    "x_bar = 75 # sample mean \n",
    "n = 36 # number of students\n",
    "sigma = 30 # sd of population\n",
    "mu = 60 # Population mean \n",
    "\n",
    "z = (x_bar - mu)/(sigma/sqrt(n))\n",
    "z\n",
    "\n",
    "import numpy as np\n",
    "import matplotlib.pyplot as plt\n",
    "plt.style.use('seaborn')\n",
    "plt.fill_between(x=np.arange(-4,0.88,0.01),\n",
    "                 y1= stats.norm.pdf(np.arange(-4,0.88,0.01)) ,\n",
    "                 facecolor='red',\n",
    "                 alpha=0.05,\n",
    "                 label= 'Area below z-statistic'\n",
    "                 )\n",
    "\n",
    "plt.fill_between(x=np.arange(0.88,4,0.01), \n",
    "                 y1= stats.norm.pdf(np.arange(0.88,4,0.01)) ,\n",
    "                 facecolor='blue',\n",
    "                 alpha=0.05, \n",
    "                 label= 'Area above z-statistic')\n",
    "plt.legend()\n",
    "plt.title(f\"z-statistic = {z}\")\n",
    "# (p = 0.0013498980316301035, z = 3.0)"
   ]
  },
  {
   "cell_type": "code",
   "execution_count": 8,
   "metadata": {},
   "outputs": [],
   "source": [
    "# Interpret the results in terms of p-value obtained\n",
    "\n"
   ]
  },
  {
   "cell_type": "markdown",
   "metadata": {},
   "source": [
    "## Exercise 2\n",
    "\n",
    "Twenty five students complete a preparation program for taking the SAT test.  Here are the SAT scores from the 25 students who completed  program:\n",
    "\n",
    "``\n",
    "434 694 457 534 720 400 484 478 610 641 425 636 454\n",
    "514 563 370 499 640 501 625 612 471 598 509 531\n",
    "``\n",
    "\n",
    "<img src=\"http://falearningsolutions.com/wp-content/uploads/2015/09/FAcogtrain71FBimage.jpg\" width=400>\n",
    "\n",
    "We know that the population average for SAT scores is 500 with a standard deviation of 100.\n",
    "\n",
    "The question is, are these students’ SAT scores significantly greater than a population mean? \n",
    "\n",
    "*Note that the the maker of the SAT prep program claims that it will increase (and not decrease) your SAT score.  So, you would be justified in conducting a one-directional test. (alpha = .05).*\n",
    "\n"
   ]
  },
  {
   "cell_type": "code",
   "execution_count": null,
   "metadata": {},
   "outputs": [],
   "source": [
    "# State your hypotheses \n"
   ]
  },
  {
   "cell_type": "code",
   "execution_count": 19,
   "metadata": {},
   "outputs": [],
   "source": [
    "# Give your solution here \n",
    "\n",
    "\n",
    "\n",
    "# p = 0.03593031911292577, z = 1.8"
   ]
  },
  {
   "cell_type": "code",
   "execution_count": 20,
   "metadata": {},
   "outputs": [],
   "source": [
    "# Interpret the results in terms of p-value obtained\n"
   ]
  },
  {
   "cell_type": "markdown",
   "metadata": {},
   "source": [
    "## Summary\n",
    "\n",
    "In this lesson, we conducted a couple of simple tests comparing sample and population means, in an attempt to reject our null hypotheses. This provides you with a strong foundation to move ahead with more advanced tests and approaches in statistics. "
   ]
  },
  {
   "cell_type": "code",
   "execution_count": null,
   "metadata": {},
   "outputs": [],
   "source": []
  }
 ],
 "metadata": {
  "kernelspec": {
   "display_name": "Python 3",
   "language": "python",
   "name": "python3"
  },
  "language_info": {
   "codemirror_mode": {
    "name": "ipython",
    "version": 3
   },
   "file_extension": ".py",
   "mimetype": "text/x-python",
   "name": "python",
   "nbconvert_exporter": "python",
   "pygments_lexer": "ipython3",
   "version": "3.6.6"
  }
 },
 "nbformat": 4,
 "nbformat_minor": 2
}
